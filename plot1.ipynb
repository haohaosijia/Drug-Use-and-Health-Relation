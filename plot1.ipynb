{
 "cells": [
  {
   "cell_type": "markdown",
   "metadata": {},
   "source": [
    "# Drug Use and Health Project"
   ]
  },
  {
   "cell_type": "markdown",
   "metadata": {},
   "source": [
    "## first plot"
   ]
  },
  {
   "cell_type": "code",
   "execution_count": 1,
   "metadata": {},
   "outputs": [],
   "source": [
    "# Import required modules\n",
    "import numpy as np\n",
    "import csv\n",
    "import pandas as pd\n",
    "import matplotlib.pyplot as plt\n",
    "from sklearn import preprocessing\n",
    "from sklearn.cluster import KMeans\n",
    "from sklearn.decomposition import PCA\n",
    "from sklearn.preprocessing import scale"
   ]
  },
  {
   "cell_type": "markdown",
   "metadata": {},
   "source": [
    "Import the data and variable categories"
   ]
  },
  {
   "cell_type": "code",
   "execution_count": 2,
   "metadata": {},
   "outputs": [
    {
     "name": "stderr",
     "output_type": "stream",
     "text": [
      "D:\\Anaconda3\\lib\\site-packages\\IPython\\core\\interactiveshell.py:3049: DtypeWarning: Columns (2502) have mixed types. Specify dtype option on import or set low_memory=False.\n",
      "  interactivity=interactivity, compiler=compiler, result=result)\n"
     ]
    }
   ],
   "source": [
    "df = pd.read_csv('MyData.csv', header=0)\n",
    "df_v = pd.read_csv('variable.csv', header=0)"
   ]
  },
  {
   "cell_type": "markdown",
   "metadata": {},
   "source": [
    "Get the background variables"
   ]
  },
  {
   "cell_type": "code",
   "execution_count": 3,
   "metadata": {},
   "outputs": [
    {
     "name": "stdout",
     "output_type": "stream",
     "text": [
      "['ALCTRY', 'ALCYFU', 'ALCMFU', 'ALCREC', 'ALCYRTOT', 'ALTOTFG', 'ALFQFLG', 'ALBSTWAY', 'ALDAYPYR', 'ALDAYPMO', 'ALDAYPWK', 'ALCDAYS', 'AL30EST', 'ALDYSFG', 'ALCUS30D', 'ALCBNG30D', 'MJEVER', 'NOMARR2', 'SERVICE', 'MILSTAT', 'ACTDEVER', 'ACTD2001', 'ACTD9001', 'ACTD7590', 'ACTDVIET', 'ACTDPRIV', 'COMBATPY', 'HEALTH', 'MOVSINPYR2', 'SEXATRACT', 'SEXIDENT', 'SPEAKENGL', 'DIFFHEAR', 'DIFFSEE', 'DIFFTHINK', 'DIFFWALK', 'DIFFDRESS', 'DIFFERAND', 'IRSEX', 'EDUSCHGRD2', 'EDUFULPAR', 'EDUSCKMON', 'EDUSCKEST', 'EDUSCKCOM', 'EDUSKPMON', 'EDUSKPEST', 'EDUSKPCOM', 'MILTFAMLY', 'MILTSPPAR', 'MILTPARNT', 'MILTCHLDR', 'MILTSIBLN', 'COLLENRLFT', 'WRKDPSTWK', 'WRKHADJOB', 'WRKDHRSWK2', 'WRK35WKUS', 'WRKRSNNOT', 'WRKRSNJOB', 'WRKEFFORT', 'WRKDPSTYR', 'WRKSELFEM', 'WRKNUMJOB2', 'WRKNJBPYR', 'WRKNJBWKS', 'WRKLASTYR2', 'WRKSICKMO', 'WRKSKIPMO', 'WRKDRGPOL', 'WRKDRGALB', 'WRKDRGEDU', 'WRKDRGHLP', 'WRKTSTALC', 'WRKTSTDRG', 'WRKTSTHIR', 'WRKTSTRDM', 'WRKTST1ST', 'WRKOKPREH', 'WRKOKRAND', 'IRWRKSTAT', 'CELLNOTCL', 'IRFAMSOC', 'COUTYP4', 'MAIIN102']\n"
     ]
    }
   ],
   "source": [
    "background = []\n",
    "n = 1\n",
    "for i in df_v['CODEBOOK MODULE']:\n",
    "    if (i == 'COUNTY') |( i == 'DEMOGRAPHICS' )|( i == 'EDUCATION' )|( i == 'EMPLOYMENT' )| (i == 'INCOME')|(i == 'ALCOHOL'):\n",
    "        background.append(df_v['VARIABLE'][n])\n",
    "    n += 1\n",
    "print(background)"
   ]
  },
  {
   "cell_type": "markdown",
   "metadata": {},
   "source": [
    "get the new data frame with useful variable"
   ]
  },
  {
   "cell_type": "code",
   "execution_count": 4,
   "metadata": {},
   "outputs": [
    {
     "name": "stdout",
     "output_type": "stream",
     "text": [
      "       alctry  alcyfu  alcmfu  alcrec  alcyrtot  altotfg  alfqflg  albstway  \\\n",
      "0          18    9999      99       2       240       98       98         3   \n",
      "1          16    9999      99       1        60       98       98         2   \n",
      "2          14    9999      99       1        52       98       98         1   \n",
      "3          14    9999      99       1        15       98       98         3   \n",
      "4         991    9991      91      91       991       98       98        91   \n",
      "5          16    9999      99       2         4       98       98         3   \n",
      "6          13    9999      99       2        10       98       98         3   \n",
      "7          14    9999      99       1       104       98       98         1   \n",
      "8          15    9999      99       2         2       98       98         3   \n",
      "9         991    9991      91      91       991       98       98        91   \n",
      "10         16    9999      99       1        52       98       98         1   \n",
      "11        991    9991      91      91       991       98       98        91   \n",
      "12         12    9999      99       1       156       98       98         1   \n",
      "13         18    9999      99       2         2       98       98         3   \n",
      "14         21    9999      99       1       104       98       98         1   \n",
      "15         21    9999      99       1         5       98       98         3   \n",
      "16        991    9991      91      91       991       98       98        91   \n",
      "17        991    9991      91      91       991       98       98        91   \n",
      "18         14    9999      99       1       208       98       98         1   \n",
      "19        991    9991      91      91       991       98       98        91   \n",
      "20         16    9999      99       2        60       98       98         2   \n",
      "21         17    9999      99       2        20       98       98         3   \n",
      "22        991    9991      91      91       991       98       98        91   \n",
      "23         16    9999      99       3       993       98       98        93   \n",
      "24         16    9999      99       1       156       98       98         1   \n",
      "25         15    9999      99       2         3       98       98         3   \n",
      "26         16    9999      99       2         1       98       98         3   \n",
      "27        991    9991      91      91       991       98       98        91   \n",
      "28        991    9991      91      91       991       98       98        91   \n",
      "29        985    9985      85       9       998       98       98        98   \n",
      "...       ...     ...     ...     ...       ...      ...      ...       ...   \n",
      "56246      20    9999      99       1        36       98       98         2   \n",
      "56247      17    2016      12       1        30       98       98         3   \n",
      "56248      18    9999      99       1        52       98       98         1   \n",
      "56249      17    9999      99       1        60       98       98         2   \n",
      "56250      10    9999      99       1        75       98       98         3   \n",
      "56251      11    9999      99       2        12       98       98         2   \n",
      "56252      18    9999      99       1       156       98       98         1   \n",
      "56253      15    9999      99       1       120       98       98         2   \n",
      "56254      19    9999      99       3       993       98       98        93   \n",
      "56255       8    9999      99       2         1       98       98         3   \n",
      "56256      21    9999      99       2         3       98       98         3   \n",
      "56257      18    9999      99       3       993       98       98        93   \n",
      "56258      18    9999      99       1        52       98       98         1   \n",
      "56259      15    9999      99       1       156       98       98         1   \n",
      "56260      15    9999      99       1       104       98       98         1   \n",
      "56261      17    9999      99       1         4       98       98         3   \n",
      "56262     991    9991      91      91       991       98       98        91   \n",
      "56263      18    2016      10       1        52       98        1         1   \n",
      "56264     991    9991      91      91       991       98       98        91   \n",
      "56265     991    9991      91      91       991       98       98        91   \n",
      "56266     991    9991      91      91       991       98       98        91   \n",
      "56267      22    9999      99       1        36       98       98         2   \n",
      "56268      16    2015      10       1        52       98       98         1   \n",
      "56269       8    9999      99       1        52       98       98         1   \n",
      "56270      17    2016      97       1         4       98       98         3   \n",
      "56271      32    9999      99       3       993       98       98        93   \n",
      "56272     991    9991      91      91       991       98       98        91   \n",
      "56273     991    9991      91      91       991       98       98        91   \n",
      "56274      14    9999      99       1       104       98       98         1   \n",
      "56275      21    9999      99       1       156       98       98         1   \n",
      "\n",
      "       aldaypyr  aldaypmo  ...  wrktsthir  wrktstrdm  WRKTST1ST  wrkokpreh  \\\n",
      "0           240        99  ...          1          2          1          3   \n",
      "1           999         5  ...         99         99         99         99   \n",
      "2           999        99  ...          1          2         94          3   \n",
      "3            15        99  ...          1          2          5          1   \n",
      "4           991        91  ...         99         99         99         99   \n",
      "5             4        99  ...         99         99         99         99   \n",
      "6            10        99  ...         99         99         99          3   \n",
      "7           999        99  ...         99         99         99         99   \n",
      "8             2        99  ...          1          1          3          1   \n",
      "9           991        91  ...         99         99         99         99   \n",
      "10          999        99  ...          1          1          2          3   \n",
      "11          991        91  ...          1          1         94          1   \n",
      "12          999        99  ...         99         99         99         99   \n",
      "13            2        99  ...         99         99         99         99   \n",
      "14          999        99  ...         99         99         99         99   \n",
      "15            5        99  ...         99         99         99          3   \n",
      "16          991        91  ...         99         99         99          3   \n",
      "17          991        91  ...         99         99         99         99   \n",
      "18          999        99  ...         99         99         99          3   \n",
      "19          991        91  ...         99         99         99          3   \n",
      "20          999         5  ...         99         99         99          2   \n",
      "21           20        99  ...          1          1          2          1   \n",
      "22          991        91  ...         99         99         99         99   \n",
      "23          993        93  ...         99         99         99         99   \n",
      "24          999        99  ...         99         99         99          2   \n",
      "25            3        99  ...         99         99         99         99   \n",
      "26            1        99  ...          1          1          2          1   \n",
      "27          991        91  ...         99         99         99         99   \n",
      "28          991        91  ...         99         99         99         99   \n",
      "29          998        98  ...         99         99         99         99   \n",
      "...         ...       ...  ...        ...        ...        ...        ...   \n",
      "56246       999         3  ...         99         99         99         99   \n",
      "56247        30        99  ...         99         99         99         99   \n",
      "56248       999        99  ...         99         99         99          2   \n",
      "56249       999         5  ...          1          2          1          3   \n",
      "56250        75        99  ...         99         99         99         99   \n",
      "56251       999         1  ...         99         99         99         99   \n",
      "56252       999        99  ...          1          1         94         97   \n",
      "56253       999        10  ...         99         99         99          3   \n",
      "56254       993        93  ...         99         99         99          3   \n",
      "56255         1        99  ...         99         99         99         99   \n",
      "56256         3        99  ...         99         99         99          1   \n",
      "56257       993        93  ...         99         99         99          3   \n",
      "56258       999        99  ...         99         99         99          3   \n",
      "56259       999        99  ...          1          1          2          3   \n",
      "56260       999        99  ...         99         99         99          3   \n",
      "56261         4        99  ...         99         99         99          1   \n",
      "56262       991        91  ...         99         99         99         99   \n",
      "56263       999        99  ...         94         94         94          1   \n",
      "56264       991        91  ...         99         99         99         99   \n",
      "56265       991        91  ...         99         99         99          3   \n",
      "56266       991        91  ...         99         99         99         99   \n",
      "56267       999         3  ...          1          1          3          3   \n",
      "56268       999        99  ...         99         99         99          2   \n",
      "56269       999        99  ...         99         99         99         99   \n",
      "56270         4        99  ...          2          2          1          3   \n",
      "56271       993        93  ...         99         99         99          3   \n",
      "56272       991        91  ...          1         94         94          3   \n",
      "56273       991        91  ...         99         99         99         99   \n",
      "56274       999        99  ...          1          1          3          3   \n",
      "56275       999        99  ...          1          1          1          1   \n",
      "\n",
      "       wrkokrand  irwrkstat  cellnotcl  irfamsoc  COUTYP4  MAIIN102  \n",
      "0              3          1          1         1        1         2  \n",
      "1             99          4          2         2        1         2  \n",
      "2              2          1          2         2        1         2  \n",
      "3              3          1          1         2        2         2  \n",
      "4             99          4          1         1        1         2  \n",
      "5             99          4          1         1        3         2  \n",
      "6              3          2          2         2        3         2  \n",
      "7             99          4          2         2        2         2  \n",
      "8              1          2          2         2        3         2  \n",
      "9             99         99          2         2        1         2  \n",
      "10             3          1          2         2        1         2  \n",
      "11             1          1          1         2        1         2  \n",
      "12            99          3          2         2        1         2  \n",
      "13            99          4          1         1        2         2  \n",
      "14            99          4          1         2        1         2  \n",
      "15             3          1          2         2        3         2  \n",
      "16             3          1          2         2        2         2  \n",
      "17            99          3          2         2        2         2  \n",
      "18             2          1          2         2        1         2  \n",
      "19             3          2          2         2        1         2  \n",
      "20             1          1          2         2        2         2  \n",
      "21             1          1          2         2        2         2  \n",
      "22            99          4          1         2        2         2  \n",
      "23            99          4          2         2        1         2  \n",
      "24             2          1          2         2        1         2  \n",
      "25            99          4          2         2        2         2  \n",
      "26             1          2          1         1        3         2  \n",
      "27            99          4          1         2        1         2  \n",
      "28            99          3          1         2        1         2  \n",
      "29            99          4          1         2        1         2  \n",
      "...          ...        ...        ...       ...      ...       ...  \n",
      "56246         99          4          2         2        3         2  \n",
      "56247         99          4          2         2        1         2  \n",
      "56248          2          1          2         2        1         2  \n",
      "56249          3          1          1         2        1         2  \n",
      "56250         99         99          1         2        3         2  \n",
      "56251         99         99          2         2        2         2  \n",
      "56252          3          1          2         1        2         2  \n",
      "56253          3          2          2         2        2         2  \n",
      "56254          3          1          1         2        3         2  \n",
      "56255         99          4          1         1        2         2  \n",
      "56256          3          1          2         2        2         2  \n",
      "56257          3          1          2         2        3         2  \n",
      "56258          3          1          1         2        2         2  \n",
      "56259          3          1          2         2        2         2  \n",
      "56260          3          2          2         2        1         2  \n",
      "56261          1          2          2         2        1         2  \n",
      "56262         99          3          2         2        1         2  \n",
      "56263          3          2          2         2        1         2  \n",
      "56264         99         99          1         2        1         2  \n",
      "56265          3          2          1         2        2         2  \n",
      "56266         99          3          2         2        1         2  \n",
      "56267          3          1          1         2        3         2  \n",
      "56268          3          1          2         1        1         2  \n",
      "56269         99          4          1         2        2         2  \n",
      "56270          3          1          1         2        1         2  \n",
      "56271          3          1          1         2        3         2  \n",
      "56272          3          1          1         2        2         2  \n",
      "56273         99         99          2         2        2         2  \n",
      "56274          3          1          1         2        2         2  \n",
      "56275          1          1          1         1        1         2  \n",
      "\n",
      "[56276 rows x 84 columns]\n"
     ]
    }
   ],
   "source": [
    "df3 = pd.DataFrame()\n",
    "for i in background:\n",
    "    if i in df.columns.values.tolist():\n",
    "        df3 = pd.concat([df3, df[i]], axis=1)\n",
    "    else:\n",
    "        df3 = pd.concat([df3, df[i.lower()]], axis=1)\n",
    "pd.DataFrame(df3).fillna('')\n",
    "print(df3) "
   ]
  },
  {
   "cell_type": "markdown",
   "metadata": {},
   "source": [
    "scale the data"
   ]
  },
  {
   "cell_type": "code",
   "execution_count": 5,
   "metadata": {},
   "outputs": [],
   "source": [
    "df3_scaled = preprocessing.scale(df3.values)\n",
    "df3_scaled = np.nan_to_num(df3_scaled)"
   ]
  },
  {
   "cell_type": "markdown",
   "metadata": {},
   "source": [
    "Clustering"
   ]
  },
  {
   "cell_type": "code",
   "execution_count": 6,
   "metadata": {},
   "outputs": [],
   "source": [
    "reduced_data = PCA(n_components=2).fit_transform(df3_scaled)\n",
    "kmeans = KMeans(init='k-means++', n_clusters=4, n_init=10)\n",
    "result = kmeans.fit_predict(reduced_data)"
   ]
  },
  {
   "cell_type": "code",
   "execution_count": 7,
   "metadata": {
    "scrolled": true
   },
   "outputs": [
    {
     "data": {
      "text/plain": [
       "<matplotlib.collections.PathCollection at 0x1191b087240>"
      ]
     },
     "execution_count": 7,
     "metadata": {},
     "output_type": "execute_result"
    },
    {
     "data": {
      "image/png": "[encoded data removed]",
      "text/plain": [
       "<Figure size 432x288 with 1 Axes>"
      ]
     },
     "metadata": {
      "needs_background": "light"
     },
     "output_type": "display_data"
    }
   ],
   "source": [
    "plt.scatter(reduced_data[:,0], reduced_data[:,1], c=result)"
   ]
  },
  {
   "cell_type": "markdown",
   "metadata": {},
   "source": [
    "we can find that for the half of picture (the yellow dot) is just the same class from the data. we can see this class has larger income and better education statue which is less likely to have record of alcohol abuse from the data set. For the county and demography, the influence is not as big as we imagine.  "
   ]
  },
  {
   "cell_type": "code",
   "execution_count": null,
   "metadata": {},
   "outputs": [],
   "source": []
  }
 ],
 "metadata": {
  "kernelspec": {
   "display_name": "Python 3",
   "language": "python",
   "name": "python3"
  },
  "language_info": {
   "codemirror_mode": {
    "name": "ipython",
    "version": 3
   },
   "file_extension": ".py",
   "mimetype": "text/x-python",
   "name": "python",
   "nbconvert_exporter": "python",
   "pygments_lexer": "ipython3",
   "version": "3.7.1"
  }
 },
 "nbformat": 4,
 "nbformat_minor": 2
}
